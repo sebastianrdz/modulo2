{
  "nbformat": 4,
  "nbformat_minor": 0,
  "metadata": {
    "colab": {
      "name": "A00827463_SebastianRdz_Modulo2_RegresionLineal.ipynb",
      "provenance": [],
      "collapsed_sections": [],
      "authorship_tag": "ABX9TyOAEb4cRQ6Re97eMqOhv1Oi",
      "include_colab_link": true
    },
    "kernelspec": {
      "name": "python3",
      "display_name": "Python 3"
    },
    "language_info": {
      "name": "python"
    }
  },
  "cells": [
    {
      "cell_type": "markdown",
      "metadata": {
        "id": "view-in-github",
        "colab_type": "text"
      },
      "source": [
        "<a href=\"https://colab.research.google.com/github/sebastianrdz/modulo2/blob/main/A00827463_SebastianRdz_Modulo2_RegresionLineal.ipynb\" target=\"_parent\"><img src=\"https://colab.research.google.com/assets/colab-badge.svg\" alt=\"Open In Colab\"/></a>"
      ]
    },
    {
      "cell_type": "markdown",
      "source": [
        "# Realacion entre calorias y proteinas de los alimentos\n"
      ],
      "metadata": {
        "id": "4Lm8jZuHYrgb"
      }
    },
    {
      "cell_type": "markdown",
      "source": [
        "## Definicion de los datos a trabajar"
      ],
      "metadata": {
        "id": "HEWDgA27Y21K"
      }
    },
    {
      "cell_type": "markdown",
      "source": [
        "### Datos para entrenamiento"
      ],
      "metadata": {
        "id": "ThWXJv5zY96j"
      }
    },
    {
      "cell_type": "code",
      "execution_count": 11,
      "metadata": {
        "id": "GWeLM--C5ROM"
      },
      "outputs": [],
      "source": [
        "import random\n",
        "calories_train = []\n",
        "protein_train = []\n",
        "for i in range(5000):\n",
        "  randNum = random.randint(80, 2000)  \n",
        "  randPro = random.random()\n",
        "  calories_train.append(randNum)\n",
        "  protein_train.append(int(randNum * randPro))"
      ]
    },
    {
      "cell_type": "markdown",
      "source": [
        "### Datos para validacion"
      ],
      "metadata": {
        "id": "s_A0h47DZCmL"
      }
    },
    {
      "cell_type": "code",
      "source": [
        "calories_test = []\n",
        "protein_test = []\n",
        "for i in range(50):\n",
        "  randNum = random.randint(80, 200)  \n",
        "  randPro = random.random()\n",
        "  calories_test.append(randNum)\n",
        "  protein_test.append(int(randNum * randPro))"
      ],
      "metadata": {
        "id": "u1T_fzWZYbmy"
      },
      "execution_count": 12,
      "outputs": []
    },
    {
      "cell_type": "markdown",
      "source": [
        "### Variables Auxiliares"
      ],
      "metadata": {
        "id": "WBMWZa7qZUw0"
      }
    },
    {
      "cell_type": "code",
      "source": [
        "alpha = 0.000001\n",
        "theta = [1,1]\n",
        "\n",
        "h   = lambda x,theta: theta[0]+theta[1]*x\n",
        "j_i = lambda x,y,theta: (y-h(x,theta))**2 \n",
        "\n",
        "n = len(protein_train)"
      ],
      "metadata": {
        "id": "3KoiSbf_ZYJv"
      },
      "execution_count": 13,
      "outputs": []
    },
    {
      "cell_type": "markdown",
      "source": [
        "## Train\n"
      ],
      "metadata": {
        "id": "NUjtIwfo0mGe"
      }
    },
    {
      "cell_type": "code",
      "source": [
        "for idx in range(1000):\n",
        "  acumDelta = []\n",
        "  acumDeltaX = []\n",
        "  for x_i, y_i in zip(calories_train,protein_train):\n",
        "    acumDelta.append(h(x_i,theta)-y_i)\n",
        "    acumDeltaX.append((h(x_i,theta)-y_i)*x_i)\n",
        "\n",
        "  sJt0 = sum(acumDelta)  \n",
        "  sJt1 = sum(acumDeltaX)\n",
        "  theta[0] = theta[0]-alpha/n*sJt0\n",
        "  theta[1] = theta[1]-alpha/n*sJt1\n",
        "\n",
        "print(theta)"
      ],
      "metadata": {
        "colab": {
          "base_uri": "https://localhost:8080/"
        },
        "id": "bJZrBOID0pbm",
        "outputId": "b47d4982-b8e6-4ae0-ff58-214caa7e44b3"
      },
      "execution_count": 14,
      "outputs": [
        {
          "output_type": "stream",
          "name": "stdout",
          "text": [
            "[0.9996547052259426, 0.5013363067938865]\n"
          ]
        }
      ]
    },
    {
      "cell_type": "code",
      "source": [
        "n_train = len(protein_train)\n",
        "n_validate = len(protein_test)\n",
        "\n",
        "# Validación\n",
        "acumDelta = []\n",
        "for x_i, y_i in zip(calories_test,protein_test):\n",
        "  acumDelta.append(j_i(x_i,y_i,theta))\n",
        "\n",
        "sDelta = sum(acumDelta)  \n",
        "J_validate = 1/(2*n_validate)*sDelta\n",
        "\n",
        "\n",
        "# Training\n",
        "acumDelta = []\n",
        "for x_i, y_i in zip(calories_train,protein_train):\n",
        "  acumDelta.append(j_i(x_i,y_i,theta))  \n",
        "\n",
        "sDelta = sum(acumDelta)  \n",
        "J_train = 1/(2*n_train)*sDelta\n",
        "\n",
        "\n",
        "\n",
        "print(J_validate)\n",
        "print(J_train)\n",
        "print(theta)"
      ],
      "metadata": {
        "colab": {
          "base_uri": "https://localhost:8080/"
        },
        "id": "M9ROmn8-vanv",
        "outputId": "695a6e9e-00cc-4446-acc0-1deb0e2ac45f"
      },
      "execution_count": 15,
      "outputs": [
        {
          "output_type": "stream",
          "name": "stdout",
          "text": [
            "1050.4606332589697\n",
            "57477.944826424886\n",
            "[0.9996547052259426, 0.5013363067938865]\n"
          ]
        }
      ]
    }
  ]
}