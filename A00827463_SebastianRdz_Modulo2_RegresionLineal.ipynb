{
  "nbformat": 4,
  "nbformat_minor": 0,
  "metadata": {
    "colab": {
      "provenance": [],
      "collapsed_sections": [],
      "authorship_tag": "ABX9TyPcvdx58dFhxBh5P/LgHoq1",
      "include_colab_link": true
    },
    "kernelspec": {
      "name": "python3",
      "display_name": "Python 3"
    },
    "language_info": {
      "name": "python"
    }
  },
  "cells": [
    {
      "cell_type": "markdown",
      "metadata": {
        "id": "view-in-github",
        "colab_type": "text"
      },
      "source": [
        "<a href=\"https://colab.research.google.com/github/sebastianrdz/modulo2/blob/main/A00827463_SebastianRdz_Modulo2_RegresionLineal.ipynb\" target=\"_parent\"><img src=\"https://colab.research.google.com/assets/colab-badge.svg\" alt=\"Open In Colab\"/></a>"
      ]
    },
    {
      "cell_type": "markdown",
      "source": [
        "# Realacion entre calorias y proteinas de los alimentos\n"
      ],
      "metadata": {
        "id": "4Lm8jZuHYrgb"
      }
    },
    {
      "cell_type": "markdown",
      "source": [
        "## Definicion de los datos a trabajar"
      ],
      "metadata": {
        "id": "HEWDgA27Y21K"
      }
    },
    {
      "cell_type": "code",
      "source": [
        "# Conexion a google drive\n",
        "from google.colab import drive\n",
        "drive.mount(\"/content/gdrive\")  \n",
        "!pwd"
      ],
      "metadata": {
        "colab": {
          "base_uri": "https://localhost:8080/"
        },
        "id": "_YyRooDjPFaL",
        "outputId": "e83c15e4-3940-4312-f567-ecd2876a2ec0"
      },
      "execution_count": 64,
      "outputs": [
        {
          "output_type": "stream",
          "name": "stdout",
          "text": [
            "Drive already mounted at /content/gdrive; to attempt to forcibly remount, call drive.mount(\"/content/gdrive\", force_remount=True).\n",
            "/content/gdrive/My Drive/Colab Notebooks\n"
          ]
        }
      ]
    },
    {
      "cell_type": "code",
      "source": [
        "# Definir ruta dentro de google drive\n",
        "%cd \"/content/gdrive/MyDrive/Colab Notebooks\"\n",
        "!ls "
      ],
      "metadata": {
        "colab": {
          "base_uri": "https://localhost:8080/"
        },
        "id": "nKPJMlaWPIQN",
        "outputId": "b4eaa6df-7c21-4132-ac15-87b97b52d801"
      },
      "execution_count": 65,
      "outputs": [
        {
          "output_type": "stream",
          "name": "stdout",
          "text": [
            "/content/gdrive/MyDrive/Colab Notebooks\n",
            " A00827463_SebastianRdz_Modulo1_Mercurio.ipynb\t\t   Mod2_Aug10.ipynb\n",
            " A00827463_SebastianRdz_Modulo1_Salarios.ipynb\t\t   PlayDataset.csv\n",
            " A00827463_SebastianRdz_Modulo2_RegresionLineal.ipynb\t   PlayDataset.ipynb\n",
            "'Copia de A00827463_SebastianRdz_Modulo1_Salarios.ipynb'   Practicas\n",
            " ds_salaries.csv\t\t\t\t\t   Retos\n",
            " mc-donalds-menu.csv\t\t\t\t\t   wine.data\n",
            " mercurio.csv\n"
          ]
        }
      ]
    },
    {
      "cell_type": "code",
      "source": [
        "# Imports\n",
        "import numpy as np\n",
        "import pandas as pd\n",
        "import matplotlib.pyplot as plt\n",
        "from matplotlib.gridspec import GridSpec\n",
        "import seaborn as sns"
      ],
      "metadata": {
        "id": "y-JMneH6PYj1"
      },
      "execution_count": 66,
      "outputs": []
    },
    {
      "cell_type": "code",
      "source": [
        "# Lectura de datos\n",
        "data = pd.read_csv(\"mc-donalds-menu.csv\")\n",
        "data.head()"
      ],
      "metadata": {
        "colab": {
          "base_uri": "https://localhost:8080/",
          "height": 470
        },
        "id": "K0UTEaMKPXuC",
        "outputId": "5cd39a66-6f63-4e3f-d7c8-547bdfb8b783"
      },
      "execution_count": 67,
      "outputs": [
        {
          "output_type": "execute_result",
          "data": {
            "text/plain": [
              "    Category                              Item    Serving Size  Calories  \\\n",
              "0  Breakfast                      Egg McMuffin  4.8 oz (136 g)       300   \n",
              "1  Breakfast                 Egg White Delight  4.8 oz (135 g)       250   \n",
              "2  Breakfast                  Sausage McMuffin  3.9 oz (111 g)       370   \n",
              "3  Breakfast         Sausage McMuffin with Egg  5.7 oz (161 g)       450   \n",
              "4  Breakfast  Sausage McMuffin with Egg Whites  5.7 oz (161 g)       400   \n",
              "\n",
              "   Calories from Fat  Total Fat  Total Fat (% Daily Value)  Saturated Fat  \\\n",
              "0                120       13.0                         20            5.0   \n",
              "1                 70        8.0                         12            3.0   \n",
              "2                200       23.0                         35            8.0   \n",
              "3                250       28.0                         43           10.0   \n",
              "4                210       23.0                         35            8.0   \n",
              "\n",
              "   Saturated Fat (% Daily Value)  Trans Fat  ...  Carbohydrates  \\\n",
              "0                             25        0.0  ...             31   \n",
              "1                             15        0.0  ...             30   \n",
              "2                             42        0.0  ...             29   \n",
              "3                             52        0.0  ...             30   \n",
              "4                             42        0.0  ...             30   \n",
              "\n",
              "   Carbohydrates (% Daily Value)  Dietary Fiber  \\\n",
              "0                             10              4   \n",
              "1                             10              4   \n",
              "2                             10              4   \n",
              "3                             10              4   \n",
              "4                             10              4   \n",
              "\n",
              "   Dietary Fiber (% Daily Value)  Sugars  Protein  Vitamin A (% Daily Value)  \\\n",
              "0                             17       3       17                         10   \n",
              "1                             17       3       18                          6   \n",
              "2                             17       2       14                          8   \n",
              "3                             17       2       21                         15   \n",
              "4                             17       2       21                          6   \n",
              "\n",
              "   Vitamin C (% Daily Value)  Calcium (% Daily Value)  Iron (% Daily Value)  \n",
              "0                          0                       25                    15  \n",
              "1                          0                       25                     8  \n",
              "2                          0                       25                    10  \n",
              "3                          0                       30                    15  \n",
              "4                          0                       25                    10  \n",
              "\n",
              "[5 rows x 24 columns]"
            ],
            "text/html": [
              "\n",
              "  <div id=\"df-d9b6f8c6-5c35-4364-a6b9-8697e2330cb5\">\n",
              "    <div class=\"colab-df-container\">\n",
              "      <div>\n",
              "<style scoped>\n",
              "    .dataframe tbody tr th:only-of-type {\n",
              "        vertical-align: middle;\n",
              "    }\n",
              "\n",
              "    .dataframe tbody tr th {\n",
              "        vertical-align: top;\n",
              "    }\n",
              "\n",
              "    .dataframe thead th {\n",
              "        text-align: right;\n",
              "    }\n",
              "</style>\n",
              "<table border=\"1\" class=\"dataframe\">\n",
              "  <thead>\n",
              "    <tr style=\"text-align: right;\">\n",
              "      <th></th>\n",
              "      <th>Category</th>\n",
              "      <th>Item</th>\n",
              "      <th>Serving Size</th>\n",
              "      <th>Calories</th>\n",
              "      <th>Calories from Fat</th>\n",
              "      <th>Total Fat</th>\n",
              "      <th>Total Fat (% Daily Value)</th>\n",
              "      <th>Saturated Fat</th>\n",
              "      <th>Saturated Fat (% Daily Value)</th>\n",
              "      <th>Trans Fat</th>\n",
              "      <th>...</th>\n",
              "      <th>Carbohydrates</th>\n",
              "      <th>Carbohydrates (% Daily Value)</th>\n",
              "      <th>Dietary Fiber</th>\n",
              "      <th>Dietary Fiber (% Daily Value)</th>\n",
              "      <th>Sugars</th>\n",
              "      <th>Protein</th>\n",
              "      <th>Vitamin A (% Daily Value)</th>\n",
              "      <th>Vitamin C (% Daily Value)</th>\n",
              "      <th>Calcium (% Daily Value)</th>\n",
              "      <th>Iron (% Daily Value)</th>\n",
              "    </tr>\n",
              "  </thead>\n",
              "  <tbody>\n",
              "    <tr>\n",
              "      <th>0</th>\n",
              "      <td>Breakfast</td>\n",
              "      <td>Egg McMuffin</td>\n",
              "      <td>4.8 oz (136 g)</td>\n",
              "      <td>300</td>\n",
              "      <td>120</td>\n",
              "      <td>13.0</td>\n",
              "      <td>20</td>\n",
              "      <td>5.0</td>\n",
              "      <td>25</td>\n",
              "      <td>0.0</td>\n",
              "      <td>...</td>\n",
              "      <td>31</td>\n",
              "      <td>10</td>\n",
              "      <td>4</td>\n",
              "      <td>17</td>\n",
              "      <td>3</td>\n",
              "      <td>17</td>\n",
              "      <td>10</td>\n",
              "      <td>0</td>\n",
              "      <td>25</td>\n",
              "      <td>15</td>\n",
              "    </tr>\n",
              "    <tr>\n",
              "      <th>1</th>\n",
              "      <td>Breakfast</td>\n",
              "      <td>Egg White Delight</td>\n",
              "      <td>4.8 oz (135 g)</td>\n",
              "      <td>250</td>\n",
              "      <td>70</td>\n",
              "      <td>8.0</td>\n",
              "      <td>12</td>\n",
              "      <td>3.0</td>\n",
              "      <td>15</td>\n",
              "      <td>0.0</td>\n",
              "      <td>...</td>\n",
              "      <td>30</td>\n",
              "      <td>10</td>\n",
              "      <td>4</td>\n",
              "      <td>17</td>\n",
              "      <td>3</td>\n",
              "      <td>18</td>\n",
              "      <td>6</td>\n",
              "      <td>0</td>\n",
              "      <td>25</td>\n",
              "      <td>8</td>\n",
              "    </tr>\n",
              "    <tr>\n",
              "      <th>2</th>\n",
              "      <td>Breakfast</td>\n",
              "      <td>Sausage McMuffin</td>\n",
              "      <td>3.9 oz (111 g)</td>\n",
              "      <td>370</td>\n",
              "      <td>200</td>\n",
              "      <td>23.0</td>\n",
              "      <td>35</td>\n",
              "      <td>8.0</td>\n",
              "      <td>42</td>\n",
              "      <td>0.0</td>\n",
              "      <td>...</td>\n",
              "      <td>29</td>\n",
              "      <td>10</td>\n",
              "      <td>4</td>\n",
              "      <td>17</td>\n",
              "      <td>2</td>\n",
              "      <td>14</td>\n",
              "      <td>8</td>\n",
              "      <td>0</td>\n",
              "      <td>25</td>\n",
              "      <td>10</td>\n",
              "    </tr>\n",
              "    <tr>\n",
              "      <th>3</th>\n",
              "      <td>Breakfast</td>\n",
              "      <td>Sausage McMuffin with Egg</td>\n",
              "      <td>5.7 oz (161 g)</td>\n",
              "      <td>450</td>\n",
              "      <td>250</td>\n",
              "      <td>28.0</td>\n",
              "      <td>43</td>\n",
              "      <td>10.0</td>\n",
              "      <td>52</td>\n",
              "      <td>0.0</td>\n",
              "      <td>...</td>\n",
              "      <td>30</td>\n",
              "      <td>10</td>\n",
              "      <td>4</td>\n",
              "      <td>17</td>\n",
              "      <td>2</td>\n",
              "      <td>21</td>\n",
              "      <td>15</td>\n",
              "      <td>0</td>\n",
              "      <td>30</td>\n",
              "      <td>15</td>\n",
              "    </tr>\n",
              "    <tr>\n",
              "      <th>4</th>\n",
              "      <td>Breakfast</td>\n",
              "      <td>Sausage McMuffin with Egg Whites</td>\n",
              "      <td>5.7 oz (161 g)</td>\n",
              "      <td>400</td>\n",
              "      <td>210</td>\n",
              "      <td>23.0</td>\n",
              "      <td>35</td>\n",
              "      <td>8.0</td>\n",
              "      <td>42</td>\n",
              "      <td>0.0</td>\n",
              "      <td>...</td>\n",
              "      <td>30</td>\n",
              "      <td>10</td>\n",
              "      <td>4</td>\n",
              "      <td>17</td>\n",
              "      <td>2</td>\n",
              "      <td>21</td>\n",
              "      <td>6</td>\n",
              "      <td>0</td>\n",
              "      <td>25</td>\n",
              "      <td>10</td>\n",
              "    </tr>\n",
              "  </tbody>\n",
              "</table>\n",
              "<p>5 rows × 24 columns</p>\n",
              "</div>\n",
              "      <button class=\"colab-df-convert\" onclick=\"convertToInteractive('df-d9b6f8c6-5c35-4364-a6b9-8697e2330cb5')\"\n",
              "              title=\"Convert this dataframe to an interactive table.\"\n",
              "              style=\"display:none;\">\n",
              "        \n",
              "  <svg xmlns=\"http://www.w3.org/2000/svg\" height=\"24px\"viewBox=\"0 0 24 24\"\n",
              "       width=\"24px\">\n",
              "    <path d=\"M0 0h24v24H0V0z\" fill=\"none\"/>\n",
              "    <path d=\"M18.56 5.44l.94 2.06.94-2.06 2.06-.94-2.06-.94-.94-2.06-.94 2.06-2.06.94zm-11 1L8.5 8.5l.94-2.06 2.06-.94-2.06-.94L8.5 2.5l-.94 2.06-2.06.94zm10 10l.94 2.06.94-2.06 2.06-.94-2.06-.94-.94-2.06-.94 2.06-2.06.94z\"/><path d=\"M17.41 7.96l-1.37-1.37c-.4-.4-.92-.59-1.43-.59-.52 0-1.04.2-1.43.59L10.3 9.45l-7.72 7.72c-.78.78-.78 2.05 0 2.83L4 21.41c.39.39.9.59 1.41.59.51 0 1.02-.2 1.41-.59l7.78-7.78 2.81-2.81c.8-.78.8-2.07 0-2.86zM5.41 20L4 18.59l7.72-7.72 1.47 1.35L5.41 20z\"/>\n",
              "  </svg>\n",
              "      </button>\n",
              "      \n",
              "  <style>\n",
              "    .colab-df-container {\n",
              "      display:flex;\n",
              "      flex-wrap:wrap;\n",
              "      gap: 12px;\n",
              "    }\n",
              "\n",
              "    .colab-df-convert {\n",
              "      background-color: #E8F0FE;\n",
              "      border: none;\n",
              "      border-radius: 50%;\n",
              "      cursor: pointer;\n",
              "      display: none;\n",
              "      fill: #1967D2;\n",
              "      height: 32px;\n",
              "      padding: 0 0 0 0;\n",
              "      width: 32px;\n",
              "    }\n",
              "\n",
              "    .colab-df-convert:hover {\n",
              "      background-color: #E2EBFA;\n",
              "      box-shadow: 0px 1px 2px rgba(60, 64, 67, 0.3), 0px 1px 3px 1px rgba(60, 64, 67, 0.15);\n",
              "      fill: #174EA6;\n",
              "    }\n",
              "\n",
              "    [theme=dark] .colab-df-convert {\n",
              "      background-color: #3B4455;\n",
              "      fill: #D2E3FC;\n",
              "    }\n",
              "\n",
              "    [theme=dark] .colab-df-convert:hover {\n",
              "      background-color: #434B5C;\n",
              "      box-shadow: 0px 1px 3px 1px rgba(0, 0, 0, 0.15);\n",
              "      filter: drop-shadow(0px 1px 2px rgba(0, 0, 0, 0.3));\n",
              "      fill: #FFFFFF;\n",
              "    }\n",
              "  </style>\n",
              "\n",
              "      <script>\n",
              "        const buttonEl =\n",
              "          document.querySelector('#df-d9b6f8c6-5c35-4364-a6b9-8697e2330cb5 button.colab-df-convert');\n",
              "        buttonEl.style.display =\n",
              "          google.colab.kernel.accessAllowed ? 'block' : 'none';\n",
              "\n",
              "        async function convertToInteractive(key) {\n",
              "          const element = document.querySelector('#df-d9b6f8c6-5c35-4364-a6b9-8697e2330cb5');\n",
              "          const dataTable =\n",
              "            await google.colab.kernel.invokeFunction('convertToInteractive',\n",
              "                                                     [key], {});\n",
              "          if (!dataTable) return;\n",
              "\n",
              "          const docLinkHtml = 'Like what you see? Visit the ' +\n",
              "            '<a target=\"_blank\" href=https://colab.research.google.com/notebooks/data_table.ipynb>data table notebook</a>'\n",
              "            + ' to learn more about interactive tables.';\n",
              "          element.innerHTML = '';\n",
              "          dataTable['output_type'] = 'display_data';\n",
              "          await google.colab.output.renderOutput(dataTable, element);\n",
              "          const docLink = document.createElement('div');\n",
              "          docLink.innerHTML = docLinkHtml;\n",
              "          element.appendChild(docLink);\n",
              "        }\n",
              "      </script>\n",
              "    </div>\n",
              "  </div>\n",
              "  "
            ]
          },
          "metadata": {},
          "execution_count": 67
        }
      ]
    },
    {
      "cell_type": "markdown",
      "source": [
        "### Definicion de datos"
      ],
      "metadata": {
        "id": "ThWXJv5zY96j"
      }
    },
    {
      "cell_type": "code",
      "execution_count": 68,
      "metadata": {
        "id": "GWeLM--C5ROM"
      },
      "outputs": [],
      "source": [
        "# Seccionamiento de datos\n",
        "calories = data[\"Calories\"]\n",
        "protein = data[\"Protein\"]\n",
        "cal_train = calories[60:]\n",
        "pro_train = protein[60:] * 4 #Multiplicar por 4 para comparar calorias de proteinas con calorias totales\n",
        "cal_test = calories[:59]\n",
        "pro_test = protein[:59] * 4 #Multiplicar por 4 para comparar calorias de proteinas con calorias totales"
      ]
    },
    {
      "cell_type": "markdown",
      "source": [
        "### Variables Auxiliares"
      ],
      "metadata": {
        "id": "WBMWZa7qZUw0"
      }
    },
    {
      "cell_type": "code",
      "source": [
        "alpha = 0.000001\n",
        "theta = [1,1]\n",
        "\n",
        "h   = lambda x,theta: theta[0]+theta[1]*x\n",
        "j_i = lambda x,y,theta: (y-h(x,theta))**2 \n",
        "\n",
        "n = len(pro_train)"
      ],
      "metadata": {
        "id": "3KoiSbf_ZYJv"
      },
      "execution_count": 69,
      "outputs": []
    },
    {
      "cell_type": "markdown",
      "source": [
        "## Train\n"
      ],
      "metadata": {
        "id": "NUjtIwfo0mGe"
      }
    },
    {
      "cell_type": "code",
      "source": [
        "for idx in range(10000):\n",
        "  acumDelta = []\n",
        "  acumDeltaX = []\n",
        "  for x_i, y_i in zip(cal_train, pro_train):\n",
        "    acumDelta.append(h(x_i,theta)-y_i)\n",
        "    acumDeltaX.append((h(x_i,theta)-y_i)*x_i)\n",
        "\n",
        "  sJt0 = sum(acumDelta)  \n",
        "  sJt1 = sum(acumDeltaX)\n",
        "  theta[0] = theta[0]-alpha/n*sJt0\n",
        "  theta[1] = theta[1]-alpha/n*sJt1\n",
        "\n",
        "print(theta)"
      ],
      "metadata": {
        "colab": {
          "base_uri": "https://localhost:8080/"
        },
        "id": "bJZrBOID0pbm",
        "outputId": "ef4f7628-e152-4d93-e613-6c767903a0f9"
      },
      "execution_count": 70,
      "outputs": [
        {
          "output_type": "stream",
          "name": "stdout",
          "text": [
            "[0.9885098384858307, 0.1320208545819503]\n"
          ]
        }
      ]
    },
    {
      "cell_type": "code",
      "source": [
        "n_train = len(pro_train)\n",
        "n_validate = len(pro_test)\n",
        "\n",
        "# Validación\n",
        "acumDelta = []\n",
        "for x_i, y_i in zip(cal_test,pro_test):\n",
        "  acumDelta.append(j_i(x_i,y_i,theta))\n",
        "\n",
        "sDelta = sum(acumDelta)  \n",
        "J_validate = 1/(2*n_validate)*sDelta\n",
        "\n",
        "\n",
        "# Training\n",
        "acumDelta = []\n",
        "for x_i, y_i in zip(cal_train,pro_train):\n",
        "  acumDelta.append(j_i(x_i,y_i,theta))  \n",
        "\n",
        "sDelta = sum(acumDelta)  \n",
        "J_train = 1/(2*n_train)*sDelta\n",
        "\n",
        "\n",
        "print(J_validate)\n",
        "print(J_train)\n",
        "print(theta)\n",
        "# Explicando theta, el primer numero representa la racion en comparacion a los datos completos. Vemos que tiende el primer numero a 1 lo que es correcto ya que representa el total de calorias de la comida.\n",
        "# Asi mismo vemos que tiende el segundo numero a 0.16 lo que representa que en relacion con las calorias totales, las proteinas componen en promedio un 16% de las calorias totales para las comidas de McDonalds."
      ],
      "metadata": {
        "colab": {
          "base_uri": "https://localhost:8080/"
        },
        "id": "M9ROmn8-vanv",
        "outputId": "1051a4e4-3fdd-4a41-97bc-80e900cded7b"
      },
      "execution_count": 71,
      "outputs": [
        {
          "output_type": "stream",
          "name": "stdout",
          "text": [
            "491.28054435678763\n",
            "381.6803899161536\n",
            "[0.9885098384858307, 0.1320208545819503]\n"
          ]
        }
      ]
    },
    {
      "cell_type": "code",
      "source": [
        "def format_axes(fig):\n",
        "    for i, ax in enumerate(fig.axes):\n",
        "        ax.tick_params(labelbottom=True, labelleft=True)\n",
        "fig = plt.figure(constrained_layout=True, figsize=(22,5))\n",
        "gs = GridSpec(1, 3, figure=fig)\n",
        "ax1 = fig.add_subplot(gs[0, 0])\n",
        "ax2 = fig.add_subplot(gs[0, 1])\n",
        "ax3 = fig.add_subplot(gs[0, 2])\n",
        "sns.regplot(ax=ax1, x=calories, y=protein).set(title='Total');\n",
        "sns.regplot(ax=ax2, x=cal_train, y=pro_train).set(title='Train');\n",
        "sns.regplot(ax=ax3, x=cal_test, y=pro_test).set(title='Test');"
      ],
      "metadata": {
        "colab": {
          "base_uri": "https://localhost:8080/",
          "height": 385
        },
        "id": "McCg05S1aQ8K",
        "outputId": "6305e1d7-a35d-4945-9b75-45418803602a"
      },
      "execution_count": 72,
      "outputs": [
        {
          "output_type": "display_data",
          "data": {
            "text/plain": [
              "<Figure size 1584x360 with 3 Axes>"
            ],
            "image/png": "[encoded data removed]"
          },
          "metadata": {
            "needs_background": "light"
          }
        }
      ]
    }
  ]
}